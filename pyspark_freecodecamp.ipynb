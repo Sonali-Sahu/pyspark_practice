{
 "cells": [
  {
   "cell_type": "code",
   "execution_count": 3,
   "metadata": {},
   "outputs": [],
   "source": [
    "import pyspark\n",
    "import pandas as pd"
   ]
  },
  {
   "cell_type": "code",
   "execution_count": 1,
   "metadata": {},
   "outputs": [
    {
     "name": "stdout",
     "output_type": "stream",
     "text": [
      "Collecting pandas\n",
      "  Downloading pandas-2.0.0-cp38-cp38-manylinux_2_17_x86_64.manylinux2014_x86_64.whl (12.3 MB)\n",
      "\u001b[K     |████████████████████████████████| 12.3 MB 24.6 MB/s eta 0:00:01\n",
      "\u001b[?25hCollecting numpy>=1.20.3; python_version < \"3.10\"\n",
      "  Downloading numpy-1.24.2-cp38-cp38-manylinux_2_17_x86_64.manylinux2014_x86_64.whl (17.3 MB)\n",
      "\u001b[K     |████████████████████████████████| 17.3 MB 31.5 MB/s eta 0:00:01\n",
      "\u001b[?25hCollecting tzdata>=2022.1\n",
      "  Downloading tzdata-2023.3-py2.py3-none-any.whl (341 kB)\n",
      "\u001b[K     |████████████████████████████████| 341 kB 60.4 MB/s eta 0:00:01\n",
      "\u001b[?25hCollecting pytz>=2020.1\n",
      "  Downloading pytz-2023.3-py2.py3-none-any.whl (502 kB)\n",
      "\u001b[K     |████████████████████████████████| 502 kB 53.4 MB/s eta 0:00:01\n",
      "\u001b[?25hRequirement already satisfied: python-dateutil>=2.8.2 in /config/.local/lib/python3.8/site-packages (from pandas) (2.8.2)\n",
      "Requirement already satisfied: six>=1.5 in /config/.local/lib/python3.8/site-packages (from python-dateutil>=2.8.2->pandas) (1.16.0)\n",
      "Installing collected packages: numpy, tzdata, pytz, pandas\n",
      "\u001b[33m  WARNING: The scripts f2py, f2py3 and f2py3.8 are installed in '/config/.local/bin' which is not on PATH.\n",
      "  Consider adding this directory to PATH or, if you prefer to suppress this warning, use --no-warn-script-location.\u001b[0m\n",
      "Successfully installed numpy-1.24.2 pandas-2.0.0 pytz-2023.3 tzdata-2023.3\n"
     ]
    }
   ],
   "source": [
    "!pip install pandas"
   ]
  },
  {
   "cell_type": "code",
   "execution_count": 6,
   "metadata": {},
   "outputs": [
    {
     "data": {
      "text/html": [
       "<div>\n",
       "<style scoped>\n",
       "    .dataframe tbody tr th:only-of-type {\n",
       "        vertical-align: middle;\n",
       "    }\n",
       "\n",
       "    .dataframe tbody tr th {\n",
       "        vertical-align: top;\n",
       "    }\n",
       "\n",
       "    .dataframe thead th {\n",
       "        text-align: right;\n",
       "    }\n",
       "</style>\n",
       "<table border=\"1\" class=\"dataframe\">\n",
       "  <thead>\n",
       "    <tr style=\"text-align: right;\">\n",
       "      <th></th>\n",
       "      <th>Unnamed: 0</th>\n",
       "      <th>id</th>\n",
       "      <th>original_title</th>\n",
       "      <th>original_language</th>\n",
       "      <th>release_date</th>\n",
       "      <th>popularity</th>\n",
       "      <th>vote_average</th>\n",
       "      <th>vote_count</th>\n",
       "      <th>media_type</th>\n",
       "      <th>adult</th>\n",
       "    </tr>\n",
       "  </thead>\n",
       "  <tbody>\n",
       "    <tr>\n",
       "      <th>0</th>\n",
       "      <td>0</td>\n",
       "      <td>638974</td>\n",
       "      <td>Murder Mystery 2</td>\n",
       "      <td>English</td>\n",
       "      <td>2023-03-26</td>\n",
       "      <td>235.901</td>\n",
       "      <td>6.8</td>\n",
       "      <td>187</td>\n",
       "      <td>movie</td>\n",
       "      <td>False</td>\n",
       "    </tr>\n",
       "    <tr>\n",
       "      <th>1</th>\n",
       "      <td>1</td>\n",
       "      <td>677179</td>\n",
       "      <td>Creed III</td>\n",
       "      <td>English</td>\n",
       "      <td>2023-03-01</td>\n",
       "      <td>1537.879</td>\n",
       "      <td>7.2</td>\n",
       "      <td>561</td>\n",
       "      <td>movie</td>\n",
       "      <td>False</td>\n",
       "    </tr>\n",
       "  </tbody>\n",
       "</table>\n",
       "</div>"
      ],
      "text/plain": [
       "   Unnamed: 0      id    original_title original_language release_date   \n",
       "0           0  638974  Murder Mystery 2           English   2023-03-26  \\\n",
       "1           1  677179         Creed III           English   2023-03-01   \n",
       "\n",
       "   popularity  vote_average  vote_count media_type  adult  \n",
       "0     235.901           6.8         187      movie  False  \n",
       "1    1537.879           7.2         561      movie  False  "
      ]
     },
     "execution_count": 6,
     "metadata": {},
     "output_type": "execute_result"
    }
   ],
   "source": [
    "df = pd.read_csv(\"trending.csv\")\n",
    "df.head(2)"
   ]
  },
  {
   "cell_type": "code",
   "execution_count": 5,
   "metadata": {},
   "outputs": [],
   "source": [
    "# need to initate a pyspark session\n",
    "from pyspark.sql import SparkSession"
   ]
  },
  {
   "cell_type": "code",
   "execution_count": 6,
   "metadata": {},
   "outputs": [
    {
     "name": "stderr",
     "output_type": "stream",
     "text": [
      "Setting default log level to \"WARN\".\n",
      "To adjust logging level use sc.setLogLevel(newLevel). For SparkR, use setLogLevel(newLevel).\n",
      "23/04/06 14:11:50 WARN NativeCodeLoader: Unable to load native-hadoop library for your platform... using builtin-java classes where applicable\n"
     ]
    }
   ],
   "source": [
    "spark = SparkSession.builder.appName('test').getOrCreate()"
   ]
  },
  {
   "cell_type": "code",
   "execution_count": 10,
   "metadata": {},
   "outputs": [
    {
     "data": {
      "text/html": [
       "\n",
       "            <div>\n",
       "                <p><b>SparkSession - in-memory</b></p>\n",
       "                \n",
       "        <div>\n",
       "            <p><b>SparkContext</b></p>\n",
       "\n",
       "            <p><a href=\"http://3fb70f49abd2:4040\">Spark UI</a></p>\n",
       "\n",
       "            <dl>\n",
       "              <dt>Version</dt>\n",
       "                <dd><code>v3.2.1</code></dd>\n",
       "              <dt>Master</dt>\n",
       "                <dd><code>local[*]</code></dd>\n",
       "              <dt>AppName</dt>\n",
       "                <dd><code>test</code></dd>\n",
       "            </dl>\n",
       "        </div>\n",
       "        \n",
       "            </div>\n",
       "        "
      ],
      "text/plain": [
       "<pyspark.sql.session.SparkSession at 0x7f90b2fc75b0>"
      ]
     },
     "execution_count": 10,
     "metadata": {},
     "output_type": "execute_result"
    }
   ],
   "source": [
    "spark"
   ]
  },
  {
   "cell_type": "code",
   "execution_count": 6,
   "metadata": {},
   "outputs": [
    {
     "name": "stderr",
     "output_type": "stream",
     "text": [
      "                                                                                \r"
     ]
    }
   ],
   "source": [
    "# python dataframe \n",
    "\n",
    "df_pyspark = spark.read.csv('trending.csv')"
   ]
  },
  {
   "cell_type": "code",
   "execution_count": 13,
   "metadata": {},
   "outputs": [
    {
     "name": "stdout",
     "output_type": "stream",
     "text": [
      "+----+-------+--------------------+-----------------+------------+----------+------------+----------+----------+-----+\n",
      "| _c0|    _c1|                 _c2|              _c3|         _c4|       _c5|         _c6|       _c7|       _c8|  _c9|\n",
      "+----+-------+--------------------+-----------------+------------+----------+------------+----------+----------+-----+\n",
      "|null|     id|      original_title|original_language|release_date|popularity|vote_average|vote_count|media_type|adult|\n",
      "|   0| 638974|    Murder Mystery 2|          English|  2023-03-26|   235.901|         6.8|       187|     movie|False|\n",
      "|   1| 677179|           Creed III|          English|  2023-03-01|  1537.879|         7.2|       561|     movie|False|\n",
      "|   2| 726759|              Tetris|          English|  2023-03-15|    66.661|         7.7|       100|     movie|False|\n",
      "|   3|  76600|Avatar: The Way o...|          English|  2022-12-14|  10224.28|       7.742|      6335|     movie|False|\n",
      "|   4| 849869|              길복순|           Korean|  2023-02-17|    33.985|         6.9|        39|     movie|False|\n",
      "|   5| 603692|John Wick: Chapter 4|          English|  2023-03-22|  2569.508|       8.161|       635|     movie|False|\n",
      "|   6| 493529|Dungeons & Dragon...|          English|  2023-03-23|   702.523|       7.598|       128|     movie|False|\n",
      "|   7| 932430|           Prom Pact|          English|  2023-03-30|    85.403|         8.0|        10|     movie|False|\n",
      "|   8|  95558|                null|          English|        null|    64.625|         8.0|         8|        tv|False|\n",
      "|   9| 816904|              Momias|            Spain|  2023-01-05|   1224.45|       7.008|        64|     movie|False|\n",
      "|  10| 514999|      Murder Mystery|          English|  2019-05-25|   197.421|       6.252|      3642|     movie|False|\n",
      "|  11|1049638|            Rye Lane|          English|  2023-03-17|    30.374|       7.778|        18|     movie|False|\n",
      "|  12| 739405|Operation Fortune...|          English|  2023-01-04|   184.229|       6.721|       297|     movie|False|\n",
      "|  13| 158876|                null|          Chinese|        null|    58.304|         8.4|         9|        tv|False|\n",
      "|  14| 921355|            Assassin|          English|  2023-03-31|    80.805|         4.8|        11|     movie|False|\n",
      "|  15| 117465|                null|         Japanese|        null|    62.392|        10.0|         4|        tv|False|\n",
      "|  16| 933419|           Champions|          English|  2023-03-09|   104.315|       6.512|        43|     movie|False|\n",
      "|  17| 208891|                null|         Japanese|        null|    59.825|       8.667|         3|        tv|False|\n",
      "|  18| 878375|On a Wing and a P...|          English|  2023-04-06|    53.714|         8.0|         4|     movie|False|\n",
      "+----+-------+--------------------+-----------------+------------+----------+------------+----------+----------+-----+\n",
      "only showing top 20 rows\n",
      "\n"
     ]
    }
   ],
   "source": [
    "# print using spark function\n",
    "df_pyspark.show()"
   ]
  },
  {
   "cell_type": "code",
   "execution_count": 7,
   "metadata": {},
   "outputs": [],
   "source": [
    "# other way to print\n",
    "\n",
    "df_pyspark_rd = spark.read.option(\"id\",\"original_title\").csv(\"trending.csv\")"
   ]
  },
  {
   "cell_type": "code",
   "execution_count": 15,
   "metadata": {},
   "outputs": [
    {
     "data": {
      "text/plain": [
       "pyspark.sql.dataframe.DataFrame"
      ]
     },
     "execution_count": 15,
     "metadata": {},
     "output_type": "execute_result"
    }
   ],
   "source": [
    "type(df_pyspark_rd)"
   ]
  },
  {
   "cell_type": "code",
   "execution_count": 16,
   "metadata": {},
   "outputs": [
    {
     "data": {
      "text/plain": [
       "Row(_c0=None, _c1='id', _c2='original_title', _c3='original_language', _c4='release_date', _c5='popularity', _c6='vote_average', _c7='vote_count', _c8='media_type', _c9='adult')"
      ]
     },
     "execution_count": 16,
     "metadata": {},
     "output_type": "execute_result"
    }
   ],
   "source": [
    "df_pyspark_rd.head() # not sure"
   ]
  },
  {
   "cell_type": "code",
   "execution_count": 18,
   "metadata": {},
   "outputs": [
    {
     "name": "stdout",
     "output_type": "stream",
     "text": [
      "root\n",
      " |-- _c0: string (nullable = true)\n",
      " |-- _c1: string (nullable = true)\n",
      " |-- _c2: string (nullable = true)\n",
      " |-- _c3: string (nullable = true)\n",
      " |-- _c4: string (nullable = true)\n",
      " |-- _c5: string (nullable = true)\n",
      " |-- _c6: string (nullable = true)\n",
      " |-- _c7: string (nullable = true)\n",
      " |-- _c8: string (nullable = true)\n",
      " |-- _c9: string (nullable = true)\n",
      "\n"
     ]
    }
   ],
   "source": [
    "# print schema\n",
    "df_pyspark_rd.printSchema()"
   ]
  },
  {
   "cell_type": "code",
   "execution_count": 22,
   "metadata": {},
   "outputs": [],
   "source": [
    "# tutorial2 topic list \n",
    "# pyspark dataframe\n",
    "# reading the dataset\n",
    "# checking the datatypes of the column\n",
    "# selecting columns and indexing\n",
    "# check describe option similar to pandas\n",
    "# adding columns\n",
    "# dropping  columns"
   ]
  },
  {
   "cell_type": "code",
   "execution_count": 25,
   "metadata": {},
   "outputs": [],
   "source": [
    "# read the dataset using pyspark\n",
    "df_pyspark_rd = spark.read.option(\"id\",\"original_title\").csv(\"trending.csv\",inferSchema=True)"
   ]
  },
  {
   "cell_type": "code",
   "execution_count": 26,
   "metadata": {},
   "outputs": [
    {
     "name": "stdout",
     "output_type": "stream",
     "text": [
      "root\n",
      " |-- _c0: integer (nullable = true)\n",
      " |-- _c1: string (nullable = true)\n",
      " |-- _c2: string (nullable = true)\n",
      " |-- _c3: string (nullable = true)\n",
      " |-- _c4: string (nullable = true)\n",
      " |-- _c5: string (nullable = true)\n",
      " |-- _c6: string (nullable = true)\n",
      " |-- _c7: string (nullable = true)\n",
      " |-- _c8: string (nullable = true)\n",
      " |-- _c9: string (nullable = true)\n",
      "\n"
     ]
    }
   ],
   "source": [
    "# check the schema\n",
    "df_pyspark_rd.printSchema()"
   ]
  },
  {
   "cell_type": "code",
   "execution_count": 25,
   "metadata": {},
   "outputs": [],
   "source": [
    "# another way to read the csv\n",
    "df_pyspark_hdr = spark.read.csv(\"trending.csv\",header=True,inferSchema=True)"
   ]
  },
  {
   "cell_type": "code",
   "execution_count": 32,
   "metadata": {},
   "outputs": [
    {
     "name": "stdout",
     "output_type": "stream",
     "text": [
      "+---+-------+--------------------+-----------------+------------+----------+------------+----------+----------+-----+\n",
      "|no.|     id|      original_title|original_language|release_date|popularity|vote_average|vote_count|media_type|adult|\n",
      "+---+-------+--------------------+-----------------+------------+----------+------------+----------+----------+-----+\n",
      "|  0| 638974|    Murder Mystery 2|          English|  2023-03-26|   235.901|         6.8|       187|     movie|false|\n",
      "|  1| 677179|           Creed III|          English|  2023-03-01|  1537.879|         7.2|       561|     movie|false|\n",
      "|  2| 726759|              Tetris|          English|  2023-03-15|    66.661|         7.7|       100|     movie|false|\n",
      "|  3|  76600|Avatar: The Way o...|          English|  2022-12-14|  10224.28|       7.742|      6335|     movie|false|\n",
      "|  4| 849869|              길복순|           Korean|  2023-02-17|    33.985|         6.9|        39|     movie|false|\n",
      "|  5| 603692|John Wick: Chapter 4|          English|  2023-03-22|  2569.508|       8.161|       635|     movie|false|\n",
      "|  6| 493529|Dungeons & Dragon...|          English|  2023-03-23|   702.523|       7.598|       128|     movie|false|\n",
      "|  7| 932430|           Prom Pact|          English|  2023-03-30|    85.403|         8.0|        10|     movie|false|\n",
      "|  8|  95558|                null|          English|        null|    64.625|         8.0|         8|        tv|false|\n",
      "|  9| 816904|              Momias|            Spain|  2023-01-05|   1224.45|       7.008|        64|     movie|false|\n",
      "| 10| 514999|      Murder Mystery|          English|  2019-05-25|   197.421|       6.252|      3642|     movie|false|\n",
      "| 11|1049638|            Rye Lane|          English|  2023-03-17|    30.374|       7.778|        18|     movie|false|\n",
      "| 12| 739405|Operation Fortune...|          English|  2023-01-04|   184.229|       6.721|       297|     movie|false|\n",
      "| 13| 158876|                null|          Chinese|        null|    58.304|         8.4|         9|        tv|false|\n",
      "| 14| 921355|            Assassin|          English|  2023-03-31|    80.805|         4.8|        11|     movie|false|\n",
      "| 15| 117465|                null|         Japanese|        null|    62.392|        10.0|         4|        tv|false|\n",
      "| 16| 933419|           Champions|          English|  2023-03-09|   104.315|       6.512|        43|     movie|false|\n",
      "| 17| 208891|                null|         Japanese|        null|    59.825|       8.667|         3|        tv|false|\n",
      "| 18| 878375|On a Wing and a P...|          English|  2023-04-06|    53.714|         8.0|         4|     movie|false|\n",
      "| 19|  82856|                null|          English|        null|  1108.646|       8.488|      8697|        tv|false|\n",
      "+---+-------+--------------------+-----------------+------------+----------+------------+----------+----------+-----+\n",
      "only showing top 20 rows\n",
      "\n"
     ]
    }
   ],
   "source": [
    "df_pyspark_hdr.show()\n"
   ]
  },
  {
   "cell_type": "code",
   "execution_count": 33,
   "metadata": {},
   "outputs": [
    {
     "data": {
      "text/plain": [
       "['no.',\n",
       " 'id',\n",
       " 'original_title',\n",
       " 'original_language',\n",
       " 'release_date',\n",
       " 'popularity',\n",
       " 'vote_average',\n",
       " 'vote_count',\n",
       " 'media_type',\n",
       " 'adult']"
      ]
     },
     "execution_count": 33,
     "metadata": {},
     "output_type": "execute_result"
    }
   ],
   "source": [
    "df_pyspark_hdr.columns"
   ]
  },
  {
   "cell_type": "code",
   "execution_count": 34,
   "metadata": {},
   "outputs": [
    {
     "data": {
      "text/plain": [
       "[Row(no.=0, id=638974, original_title='Murder Mystery 2', original_language='English', release_date='2023-03-26', popularity=235.901, vote_average=6.8, vote_count=187, media_type='movie', adult=False)]"
      ]
     },
     "execution_count": 34,
     "metadata": {},
     "output_type": "execute_result"
    }
   ],
   "source": [
    "df_pyspark_hdr.head(1)"
   ]
  },
  {
   "cell_type": "code",
   "execution_count": 37,
   "metadata": {},
   "outputs": [
    {
     "name": "stdout",
     "output_type": "stream",
     "text": [
      "+-------+--------------------+\n",
      "|     id|      original_title|\n",
      "+-------+--------------------+\n",
      "| 638974|    Murder Mystery 2|\n",
      "| 677179|           Creed III|\n",
      "| 726759|              Tetris|\n",
      "|  76600|Avatar: The Way o...|\n",
      "| 849869|              길복순|\n",
      "| 603692|John Wick: Chapter 4|\n",
      "| 493529|Dungeons & Dragon...|\n",
      "| 932430|           Prom Pact|\n",
      "|  95558|                null|\n",
      "| 816904|              Momias|\n",
      "| 514999|      Murder Mystery|\n",
      "|1049638|            Rye Lane|\n",
      "| 739405|Operation Fortune...|\n",
      "| 158876|                null|\n",
      "| 921355|            Assassin|\n",
      "| 117465|                null|\n",
      "| 933419|           Champions|\n",
      "| 208891|                null|\n",
      "| 878375|On a Wing and a P...|\n",
      "|  82856|                null|\n",
      "+-------+--------------------+\n",
      "only showing top 20 rows\n",
      "\n"
     ]
    }
   ],
   "source": [
    "df_pyspark_hdr.select([\"id\",\"original_title\"]).show()"
   ]
  },
  {
   "cell_type": "code",
   "execution_count": 40,
   "metadata": {},
   "outputs": [
    {
     "name": "stdout",
     "output_type": "stream",
     "text": [
      "+-------+\n",
      "|     id|\n",
      "+-------+\n",
      "| 638974|\n",
      "| 677179|\n",
      "| 726759|\n",
      "|  76600|\n",
      "| 849869|\n",
      "| 603692|\n",
      "| 493529|\n",
      "| 932430|\n",
      "|  95558|\n",
      "| 816904|\n",
      "| 514999|\n",
      "|1049638|\n",
      "| 739405|\n",
      "| 158876|\n",
      "| 921355|\n",
      "| 117465|\n",
      "| 933419|\n",
      "| 208891|\n",
      "| 878375|\n",
      "|  82856|\n",
      "+-------+\n",
      "only showing top 20 rows\n",
      "\n"
     ]
    }
   ],
   "source": [
    "df_pyspark_hdr.select(['id']).show()"
   ]
  },
  {
   "cell_type": "code",
   "execution_count": 41,
   "metadata": {},
   "outputs": [
    {
     "data": {
      "text/plain": [
       "[('no.', 'int'),\n",
       " ('id', 'int'),\n",
       " ('original_title', 'string'),\n",
       " ('original_language', 'string'),\n",
       " ('release_date', 'string'),\n",
       " ('popularity', 'double'),\n",
       " ('vote_average', 'double'),\n",
       " ('vote_count', 'int'),\n",
       " ('media_type', 'string'),\n",
       " ('adult', 'boolean')]"
      ]
     },
     "execution_count": 41,
     "metadata": {},
     "output_type": "execute_result"
    }
   ],
   "source": [
    "# check datatypes\n",
    "df_pyspark_hdr.dtypes"
   ]
  },
  {
   "cell_type": "code",
   "execution_count": 43,
   "metadata": {},
   "outputs": [
    {
     "name": "stdout",
     "output_type": "stream",
     "text": [
      "+-------+-----------------+-----------------+--------------+-----------------+------------+-----------------+-----------------+-----------------+----------+\n",
      "|summary|              no.|               id|original_title|original_language|release_date|       popularity|     vote_average|       vote_count|media_type|\n",
      "+-------+-----------------+-----------------+--------------+-----------------+------------+-----------------+-----------------+-----------------+----------+\n",
      "|  count|            16080|            16080|         12060|            16080|       12060|            16080|            16080|            16080|     16080|\n",
      "|   mean|           8039.5|        575838.65|          null|             null|        null|934.2619999999683|7.536349999999667|          1039.75|      null|\n",
      "| stddev|4642.040499607904|327135.2476631671|          null|             null|        null|2229.935599390959|1.057306080756538|2326.961930457314|      null|\n",
      "|    min|                0|            76600|      Assassin|          Chinese|  2019-05-25|           30.374|              4.8|                3|     movie|\n",
      "|    max|            16079|          1049638|        길복순|            Spain|  2023-04-06|         10224.28|             10.0|             8697|        tv|\n",
      "+-------+-----------------+-----------------+--------------+-----------------+------------+-----------------+-----------------+-----------------+----------+\n",
      "\n"
     ]
    }
   ],
   "source": [
    "df_pyspark_hdr.describe().show()"
   ]
  },
  {
   "cell_type": "code",
   "execution_count": 9,
   "metadata": {},
   "outputs": [],
   "source": [
    "# adding columns\n",
    "df_pyspark_hdr.withColumn('test_col',df_pyspark_hdr['id']+3)\n",
    "\n",
    "# to make it reflected as there is no inplace statement\n",
    "df_newcol = df_pyspark_hdr.withColumn('test_col',df_pyspark_hdr['id']+3)"
   ]
  },
  {
   "cell_type": "code",
   "execution_count": 10,
   "metadata": {},
   "outputs": [],
   "source": [
    "# drop the columns\n",
    "df_dropcol = df_newcol.drop(\"test_col\")"
   ]
  },
  {
   "cell_type": "code",
   "execution_count": 11,
   "metadata": {},
   "outputs": [
    {
     "data": {
      "text/plain": [
       "['no.',\n",
       " 'id',\n",
       " 'original_title',\n",
       " 'original_language',\n",
       " 'release_date',\n",
       " 'popularity',\n",
       " 'vote_average',\n",
       " 'vote_count',\n",
       " 'media_type',\n",
       " 'adult']"
      ]
     },
     "execution_count": 11,
     "metadata": {},
     "output_type": "execute_result"
    }
   ],
   "source": [
    "df_dropcol.columns"
   ]
  },
  {
   "cell_type": "code",
   "execution_count": 12,
   "metadata": {},
   "outputs": [],
   "source": [
    "# rename a column name\n",
    "\n",
    "df_rename = df_dropcol.withColumnRenamed('no.','slno.')"
   ]
  },
  {
   "cell_type": "code",
   "execution_count": 13,
   "metadata": {},
   "outputs": [
    {
     "data": {
      "text/plain": [
       "['slno.',\n",
       " 'id',\n",
       " 'original_title',\n",
       " 'original_language',\n",
       " 'release_date',\n",
       " 'popularity',\n",
       " 'vote_average',\n",
       " 'vote_count',\n",
       " 'media_type',\n",
       " 'adult']"
      ]
     },
     "execution_count": 13,
     "metadata": {},
     "output_type": "execute_result"
    }
   ],
   "source": [
    "df_rename.columns"
   ]
  },
  {
   "cell_type": "code",
   "execution_count": 59,
   "metadata": {},
   "outputs": [],
   "source": [
    "# tutorial3 \n",
    "# Dropping Columns\n",
    "# dropping rows\n",
    "# various parameter in dropping functionalities\n",
    "# handling Missing Values by mean,median,mode"
   ]
  },
  {
   "cell_type": "code",
   "execution_count": 15,
   "metadata": {},
   "outputs": [
    {
     "name": "stdout",
     "output_type": "stream",
     "text": [
      "+-------+--------------------+-----------------+------------+----------+------------+----------+----------+-----+\n",
      "|     id|      original_title|original_language|release_date|popularity|vote_average|vote_count|media_type|adult|\n",
      "+-------+--------------------+-----------------+------------+----------+------------+----------+----------+-----+\n",
      "| 638974|    Murder Mystery 2|          English|  2023-03-26|   235.901|         6.8|       187|     movie|false|\n",
      "| 677179|           Creed III|          English|  2023-03-01|  1537.879|         7.2|       561|     movie|false|\n",
      "| 726759|              Tetris|          English|  2023-03-15|    66.661|         7.7|       100|     movie|false|\n",
      "|  76600|Avatar: The Way o...|          English|  2022-12-14|  10224.28|       7.742|      6335|     movie|false|\n",
      "| 849869|              길복순|           Korean|  2023-02-17|    33.985|         6.9|        39|     movie|false|\n",
      "| 603692|John Wick: Chapter 4|          English|  2023-03-22|  2569.508|       8.161|       635|     movie|false|\n",
      "| 493529|Dungeons & Dragon...|          English|  2023-03-23|   702.523|       7.598|       128|     movie|false|\n",
      "| 932430|           Prom Pact|          English|  2023-03-30|    85.403|         8.0|        10|     movie|false|\n",
      "|  95558|                null|          English|        null|    64.625|         8.0|         8|        tv|false|\n",
      "| 816904|              Momias|            Spain|  2023-01-05|   1224.45|       7.008|        64|     movie|false|\n",
      "| 514999|      Murder Mystery|          English|  2019-05-25|   197.421|       6.252|      3642|     movie|false|\n",
      "|1049638|            Rye Lane|          English|  2023-03-17|    30.374|       7.778|        18|     movie|false|\n",
      "| 739405|Operation Fortune...|          English|  2023-01-04|   184.229|       6.721|       297|     movie|false|\n",
      "| 158876|                null|          Chinese|        null|    58.304|         8.4|         9|        tv|false|\n",
      "| 921355|            Assassin|          English|  2023-03-31|    80.805|         4.8|        11|     movie|false|\n",
      "| 117465|                null|         Japanese|        null|    62.392|        10.0|         4|        tv|false|\n",
      "| 933419|           Champions|          English|  2023-03-09|   104.315|       6.512|        43|     movie|false|\n",
      "| 208891|                null|         Japanese|        null|    59.825|       8.667|         3|        tv|false|\n",
      "| 878375|On a Wing and a P...|          English|  2023-04-06|    53.714|         8.0|         4|     movie|false|\n",
      "|  82856|                null|          English|        null|  1108.646|       8.488|      8697|        tv|false|\n",
      "+-------+--------------------+-----------------+------------+----------+------------+----------+----------+-----+\n",
      "only showing top 20 rows\n",
      "\n"
     ]
    }
   ],
   "source": [
    "# dropping columns\n",
    "df_rename.drop(\"slno.\").show()"
   ]
  },
  {
   "cell_type": "code",
   "execution_count": 23,
   "metadata": {},
   "outputs": [
    {
     "data": {
      "text/plain": [
       "DataFrame[_c0: string, _c1: string, _c2: string, _c3: string, _c4: string, _c5: string, _c6: string, _c7: string, _c8: string, _c9: string]"
      ]
     },
     "execution_count": 23,
     "metadata": {},
     "output_type": "execute_result"
    }
   ],
   "source": [
    "#to remove the rows holding null value\n",
    "df_pyspark.na.drop()"
   ]
  },
  {
   "cell_type": "code",
   "execution_count": 27,
   "metadata": {},
   "outputs": [
    {
     "name": "stdout",
     "output_type": "stream",
     "text": [
      "+---+-------+--------------------+-----------------+------------+----------+------------+----------+----------+-----+\n",
      "| no|     id|      original_title|original_language|release_date|popularity|vote_average|vote_count|media_type|adult|\n",
      "+---+-------+--------------------+-----------------+------------+----------+------------+----------+----------+-----+\n",
      "|  0| 638974|    Murder Mystery 2|          English|  2023-03-26|   235.901|         6.8|       187|     movie|false|\n",
      "|  1| 677179|           Creed III|          English|  2023-03-01|  1537.879|         7.2|       561|     movie|false|\n",
      "|  2| 726759|              Tetris|          English|  2023-03-15|    66.661|         7.7|       100|     movie|false|\n",
      "|  3|  76600|Avatar: The Way o...|          English|  2022-12-14|  10224.28|       7.742|      6335|     movie|false|\n",
      "|  4| 849869|              길복순|           Korean|  2023-02-17|    33.985|         6.9|        39|     movie|false|\n",
      "|  5| 603692|John Wick: Chapter 4|          English|  2023-03-22|  2569.508|       8.161|       635|     movie|false|\n",
      "|  6| 493529|Dungeons & Dragon...|          English|  2023-03-23|   702.523|       7.598|       128|     movie|false|\n",
      "|  7| 932430|           Prom Pact|          English|  2023-03-30|    85.403|         8.0|        10|     movie|false|\n",
      "|  8|  95558|                null|          English|        null|    64.625|         8.0|         8|        tv|false|\n",
      "|  9| 816904|              Momias|            Spain|  2023-01-05|   1224.45|       7.008|        64|     movie|false|\n",
      "| 10| 514999|      Murder Mystery|          English|  2019-05-25|   197.421|       6.252|      3642|     movie|false|\n",
      "| 11|1049638|            Rye Lane|          English|  2023-03-17|    30.374|       7.778|        18|     movie|false|\n",
      "| 12| 739405|Operation Fortune...|          English|  2023-01-04|   184.229|       6.721|       297|     movie|false|\n",
      "| 13| 158876|                null|          Chinese|        null|    58.304|         8.4|         9|        tv|false|\n",
      "| 14| 921355|            Assassin|          English|  2023-03-31|    80.805|         4.8|        11|     movie|false|\n",
      "| 15| 117465|                null|         Japanese|        null|    62.392|        10.0|         4|        tv|false|\n",
      "| 16| 933419|           Champions|          English|  2023-03-09|   104.315|       6.512|        43|     movie|false|\n",
      "| 17| 208891|                null|         Japanese|        null|    59.825|       8.667|         3|        tv|false|\n",
      "| 18| 878375|On a Wing and a P...|          English|  2023-04-06|    53.714|         8.0|         4|     movie|false|\n",
      "| 19|  82856|                null|          English|        null|  1108.646|       8.488|      8697|        tv|false|\n",
      "+---+-------+--------------------+-----------------+------------+----------+------------+----------+----------+-----+\n",
      "only showing top 20 rows\n",
      "\n"
     ]
    }
   ],
   "source": [
    "#to remove the rows holding null value\n",
    "df_pyspark_hdr.na.drop(how = \"all\",thresh=2).show()"
   ]
  },
  {
   "cell_type": "code",
   "execution_count": 29,
   "metadata": {},
   "outputs": [
    {
     "name": "stdout",
     "output_type": "stream",
     "text": [
      "+---+-------+--------------------+-----------------+------------+----------+------------+----------+----------+-----+\n",
      "| no|     id|      original_title|original_language|release_date|popularity|vote_average|vote_count|media_type|adult|\n",
      "+---+-------+--------------------+-----------------+------------+----------+------------+----------+----------+-----+\n",
      "|  0| 638974|    Murder Mystery 2|          English|  2023-03-26|   235.901|         6.8|       187|     movie|false|\n",
      "|  1| 677179|           Creed III|          English|  2023-03-01|  1537.879|         7.2|       561|     movie|false|\n",
      "|  2| 726759|              Tetris|          English|  2023-03-15|    66.661|         7.7|       100|     movie|false|\n",
      "|  3|  76600|Avatar: The Way o...|          English|  2022-12-14|  10224.28|       7.742|      6335|     movie|false|\n",
      "|  4| 849869|              길복순|           Korean|  2023-02-17|    33.985|         6.9|        39|     movie|false|\n",
      "|  5| 603692|John Wick: Chapter 4|          English|  2023-03-22|  2569.508|       8.161|       635|     movie|false|\n",
      "|  6| 493529|Dungeons & Dragon...|          English|  2023-03-23|   702.523|       7.598|       128|     movie|false|\n",
      "|  7| 932430|           Prom Pact|          English|  2023-03-30|    85.403|         8.0|        10|     movie|false|\n",
      "|  9| 816904|              Momias|            Spain|  2023-01-05|   1224.45|       7.008|        64|     movie|false|\n",
      "| 10| 514999|      Murder Mystery|          English|  2019-05-25|   197.421|       6.252|      3642|     movie|false|\n",
      "| 11|1049638|            Rye Lane|          English|  2023-03-17|    30.374|       7.778|        18|     movie|false|\n",
      "| 12| 739405|Operation Fortune...|          English|  2023-01-04|   184.229|       6.721|       297|     movie|false|\n",
      "| 14| 921355|            Assassin|          English|  2023-03-31|    80.805|         4.8|        11|     movie|false|\n",
      "| 16| 933419|           Champions|          English|  2023-03-09|   104.315|       6.512|        43|     movie|false|\n",
      "| 18| 878375|On a Wing and a P...|          English|  2023-04-06|    53.714|         8.0|         4|     movie|false|\n",
      "| 20| 638974|    Murder Mystery 2|          English|  2023-03-26|   235.901|         6.8|       187|     movie|false|\n",
      "| 21| 677179|           Creed III|          English|  2023-03-01|  1537.879|         7.2|       561|     movie|false|\n",
      "| 22| 726759|              Tetris|          English|  2023-03-15|    66.661|         7.7|       100|     movie|false|\n",
      "| 23|  76600|Avatar: The Way o...|          English|  2022-12-14|  10224.28|       7.742|      6335|     movie|false|\n",
      "| 24| 849869|              길복순|           Korean|  2023-02-17|    33.985|         6.9|        39|     movie|false|\n",
      "+---+-------+--------------------+-----------------+------------+----------+------------+----------+----------+-----+\n",
      "only showing top 20 rows\n",
      "\n"
     ]
    }
   ],
   "source": [
    "# subset\n",
    "df_pyspark_hdr.na.drop(how=\"any\",subset=[\"original_title\"]).show()"
   ]
  },
  {
   "cell_type": "code",
   "execution_count": 31,
   "metadata": {},
   "outputs": [
    {
     "name": "stdout",
     "output_type": "stream",
     "text": [
      "+---+-------+--------------------+-----------------+------------+----------+------------+----------+----------+-----+\n",
      "| no|     id|      original_title|original_language|release_date|popularity|vote_average|vote_count|media_type|adult|\n",
      "+---+-------+--------------------+-----------------+------------+----------+------------+----------+----------+-----+\n",
      "|  0| 638974|    Murder Mystery 2|          English|  2023-03-26|   235.901|         6.8|       187|     movie|false|\n",
      "|  1| 677179|           Creed III|          English|  2023-03-01|  1537.879|         7.2|       561|     movie|false|\n",
      "|  2| 726759|              Tetris|          English|  2023-03-15|    66.661|         7.7|       100|     movie|false|\n",
      "|  3|  76600|Avatar: The Way o...|          English|  2022-12-14|  10224.28|       7.742|      6335|     movie|false|\n",
      "|  4| 849869|              길복순|           Korean|  2023-02-17|    33.985|         6.9|        39|     movie|false|\n",
      "|  5| 603692|John Wick: Chapter 4|          English|  2023-03-22|  2569.508|       8.161|       635|     movie|false|\n",
      "|  6| 493529|Dungeons & Dragon...|          English|  2023-03-23|   702.523|       7.598|       128|     movie|false|\n",
      "|  7| 932430|           Prom Pact|          English|  2023-03-30|    85.403|         8.0|        10|     movie|false|\n",
      "|  8|  95558|      Missing Values|          English|        null|    64.625|         8.0|         8|        tv|false|\n",
      "|  9| 816904|              Momias|            Spain|  2023-01-05|   1224.45|       7.008|        64|     movie|false|\n",
      "| 10| 514999|      Murder Mystery|          English|  2019-05-25|   197.421|       6.252|      3642|     movie|false|\n",
      "| 11|1049638|            Rye Lane|          English|  2023-03-17|    30.374|       7.778|        18|     movie|false|\n",
      "| 12| 739405|Operation Fortune...|          English|  2023-01-04|   184.229|       6.721|       297|     movie|false|\n",
      "| 13| 158876|      Missing Values|          Chinese|        null|    58.304|         8.4|         9|        tv|false|\n",
      "| 14| 921355|            Assassin|          English|  2023-03-31|    80.805|         4.8|        11|     movie|false|\n",
      "| 15| 117465|      Missing Values|         Japanese|        null|    62.392|        10.0|         4|        tv|false|\n",
      "| 16| 933419|           Champions|          English|  2023-03-09|   104.315|       6.512|        43|     movie|false|\n",
      "| 17| 208891|      Missing Values|         Japanese|        null|    59.825|       8.667|         3|        tv|false|\n",
      "| 18| 878375|On a Wing and a P...|          English|  2023-04-06|    53.714|         8.0|         4|     movie|false|\n",
      "| 19|  82856|      Missing Values|          English|        null|  1108.646|       8.488|      8697|        tv|false|\n",
      "+---+-------+--------------------+-----------------+------------+----------+------------+----------+----------+-----+\n",
      "only showing top 20 rows\n",
      "\n"
     ]
    }
   ],
   "source": [
    "# fill the missing value\n",
    "\n",
    "df_pyspark_hdr.na.fill(\"Missing Values\",[\"original_title\"]).show()"
   ]
  },
  {
   "cell_type": "code",
   "execution_count": 35,
   "metadata": {},
   "outputs": [],
   "source": [
    "# imputer function use\n",
    "from pyspark.ml.feature import Imputer\n",
    "imputer = Imputer(\n",
    "    inputCols = [\"vote_average\",\"popularity\",\"vote_count\"],\n",
    "    outputCols = [\"{}_imputed\".format(c) for c in [\"vote_average\",\"popularity\",\"vote_count\"]]\n",
    ").setStrategy(\"mean\")"
   ]
  },
  {
   "cell_type": "code",
   "execution_count": 36,
   "metadata": {},
   "outputs": [
    {
     "name": "stdout",
     "output_type": "stream",
     "text": [
      "+---+-------+--------------------+-----------------+------------+----------+------------+----------+----------+-----+--------------------+------------------+------------------+\n",
      "| no|     id|      original_title|original_language|release_date|popularity|vote_average|vote_count|media_type|adult|vote_average_imputed|popularity_imputed|vote_count_imputed|\n",
      "+---+-------+--------------------+-----------------+------------+----------+------------+----------+----------+-----+--------------------+------------------+------------------+\n",
      "|  0| 638974|    Murder Mystery 2|          English|  2023-03-26|   235.901|         6.8|       187|     movie|false|                 6.8|           235.901|               187|\n",
      "|  1| 677179|           Creed III|          English|  2023-03-01|  1537.879|         7.2|       561|     movie|false|                 7.2|          1537.879|               561|\n",
      "|  2| 726759|              Tetris|          English|  2023-03-15|    66.661|         7.7|       100|     movie|false|                 7.7|            66.661|               100|\n",
      "|  3|  76600|Avatar: The Way o...|          English|  2022-12-14|  10224.28|       7.742|      6335|     movie|false|               7.742|          10224.28|              6335|\n",
      "|  4| 849869|              길복순|           Korean|  2023-02-17|    33.985|         6.9|        39|     movie|false|                 6.9|            33.985|                39|\n",
      "|  5| 603692|John Wick: Chapter 4|          English|  2023-03-22|  2569.508|       8.161|       635|     movie|false|               8.161|          2569.508|               635|\n",
      "|  6| 493529|Dungeons & Dragon...|          English|  2023-03-23|   702.523|       7.598|       128|     movie|false|               7.598|           702.523|               128|\n",
      "|  7| 932430|           Prom Pact|          English|  2023-03-30|    85.403|         8.0|        10|     movie|false|                 8.0|            85.403|                10|\n",
      "|  8|  95558|                null|          English|        null|    64.625|         8.0|         8|        tv|false|                 8.0|            64.625|                 8|\n",
      "|  9| 816904|              Momias|            Spain|  2023-01-05|   1224.45|       7.008|        64|     movie|false|               7.008|           1224.45|                64|\n",
      "| 10| 514999|      Murder Mystery|          English|  2019-05-25|   197.421|       6.252|      3642|     movie|false|               6.252|           197.421|              3642|\n",
      "| 11|1049638|            Rye Lane|          English|  2023-03-17|    30.374|       7.778|        18|     movie|false|               7.778|            30.374|                18|\n",
      "| 12| 739405|Operation Fortune...|          English|  2023-01-04|   184.229|       6.721|       297|     movie|false|               6.721|           184.229|               297|\n",
      "| 13| 158876|                null|          Chinese|        null|    58.304|         8.4|         9|        tv|false|                 8.4|            58.304|                 9|\n",
      "| 14| 921355|            Assassin|          English|  2023-03-31|    80.805|         4.8|        11|     movie|false|                 4.8|            80.805|                11|\n",
      "| 15| 117465|                null|         Japanese|        null|    62.392|        10.0|         4|        tv|false|                10.0|            62.392|                 4|\n",
      "| 16| 933419|           Champions|          English|  2023-03-09|   104.315|       6.512|        43|     movie|false|               6.512|           104.315|                43|\n",
      "| 17| 208891|                null|         Japanese|        null|    59.825|       8.667|         3|        tv|false|               8.667|            59.825|                 3|\n",
      "| 18| 878375|On a Wing and a P...|          English|  2023-04-06|    53.714|         8.0|         4|     movie|false|                 8.0|            53.714|                 4|\n",
      "| 19|  82856|                null|          English|        null|  1108.646|       8.488|      8697|        tv|false|               8.488|          1108.646|              8697|\n",
      "+---+-------+--------------------+-----------------+------------+----------+------------+----------+----------+-----+--------------------+------------------+------------------+\n",
      "only showing top 20 rows\n",
      "\n"
     ]
    }
   ],
   "source": [
    "# add imputation cols to df\n",
    "imputer.fit(df_pyspark_hdr).transform(df_pyspark_hdr).show()"
   ]
  },
  {
   "cell_type": "code",
   "execution_count": 38,
   "metadata": {},
   "outputs": [],
   "source": [
    "#tutorial4 Dataframe\n",
    "# filter Operation\n",
    "# &,|,==\n",
    "# ~"
   ]
  },
  {
   "cell_type": "code",
   "execution_count": 7,
   "metadata": {},
   "outputs": [
    {
     "name": "stderr",
     "output_type": "stream",
     "text": [
      "                                                                                \r"
     ]
    }
   ],
   "source": [
    "# reading new food file\n",
    "\n",
    "df_food = spark.read.csv(\"fastfood.csv\",header=True,inferSchema=True)"
   ]
  },
  {
   "cell_type": "code",
   "execution_count": 8,
   "metadata": {},
   "outputs": [
    {
     "data": {
      "text/plain": [
       "['restaurant',\n",
       " 'item',\n",
       " 'calories',\n",
       " 'cal_fat',\n",
       " 'total_fat',\n",
       " 'sat_fat',\n",
       " 'trans_fat',\n",
       " 'cholesterol',\n",
       " 'sodium',\n",
       " 'total_carb',\n",
       " 'fiber',\n",
       " 'sugar',\n",
       " 'protein',\n",
       " 'vit_a',\n",
       " 'vit_c',\n",
       " 'calcium',\n",
       " 'salad']"
      ]
     },
     "execution_count": 8,
     "metadata": {},
     "output_type": "execute_result"
    }
   ],
   "source": [
    "df_food.columns"
   ]
  },
  {
   "cell_type": "code",
   "execution_count": 9,
   "metadata": {},
   "outputs": [],
   "source": [
    "# filter operations"
   ]
  },
  {
   "cell_type": "code",
   "execution_count": 10,
   "metadata": {},
   "outputs": [
    {
     "name": "stdout",
     "output_type": "stream",
     "text": [
      "+-----------+--------------------+--------+-------+---------+-------+---------+-----------+------+----------+-----+-----+-------+-----+-----+-------+-----+\n",
      "| restaurant|                item|calories|cal_fat|total_fat|sat_fat|trans_fat|cholesterol|sodium|total_carb|fiber|sugar|protein|vit_a|vit_c|calcium|salad|\n",
      "+-----------+--------------------+--------+-------+---------+-------+---------+-----------+------+----------+-----+-----+-------+-----+-----+-------+-----+\n",
      "|Chick Fil-A|4 Piece Grilled C...|      70|     18|        2|    1.0|      0.0|         35|   220|         1|    0|    0|     13|    0|    6|      0|Other|\n",
      "|      Sonic|Ultimate Chicken ...|     100|    580|       64|   15.0|      0.5|        100|  2070|        65|    4|   12|     39|   15|    8|     30|Other|\n",
      "|      Arbys|  Chopped Side Salad|      70|     45|        5|    2.5|      0.0|         15|   100|         4|    1|    2|      5|   35|   10|     10|Other|\n",
      "|Dairy Queen|          Side Salad|      20|      0|        0|    0.0|      0.0|          0|    15|         5|    2|    3|      1|   50|   30|     15|Other|\n",
      "|     Subway| Veggie Delite Salad|      50|     10|        1|    0.0|      0.0|          0|    65|         9|    4|    4|      3|   25|   45|      4|Other|\n",
      "+-----------+--------------------+--------+-------+---------+-------+---------+-----------+------+----------+-----+-----+-------+-----+-----+-------+-----+\n",
      "\n"
     ]
    }
   ],
   "source": [
    "# find food items whose cal is less than 100\n",
    "df_food.filter(\"calories<=100\").show()\n"
   ]
  },
  {
   "cell_type": "code",
   "execution_count": 53,
   "metadata": {},
   "outputs": [
    {
     "name": "stdout",
     "output_type": "stream",
     "text": [
      "+--------------------+\n",
      "|                item|\n",
      "+--------------------+\n",
      "|4 Piece Grilled C...|\n",
      "|Ultimate Chicken ...|\n",
      "|  Chopped Side Salad|\n",
      "|          Side Salad|\n",
      "| Veggie Delite Salad|\n",
      "+--------------------+\n",
      "\n",
      "+--------------------+\n",
      "|                item|\n",
      "+--------------------+\n",
      "|4 Piece Grilled C...|\n",
      "|Ultimate Chicken ...|\n",
      "|  Chopped Side Salad|\n",
      "|          Side Salad|\n",
      "| Veggie Delite Salad|\n",
      "+--------------------+\n",
      "\n"
     ]
    }
   ],
   "source": [
    "df_food.filter(\"calories<=100\").select([\"item\"]).show()\n",
    "df_food.filter(df_food[\"calories\"]<=100).select([\"item\"]).show()"
   ]
  },
  {
   "cell_type": "code",
   "execution_count": 51,
   "metadata": {},
   "outputs": [
    {
     "name": "stdout",
     "output_type": "stream",
     "text": [
      "+--------------------+\n",
      "|                item|\n",
      "+--------------------+\n",
      "|        Lobster Roll|\n",
      "|4 Piece Grilled C...|\n",
      "|6 Piece Grilled C...|\n",
      "|8 piece Grilled C...|\n",
      "|12 Piece Grilled ...|\n",
      "|  Chopped Side Salad|\n",
      "|Grilled Chicken G...|\n",
      "|          Side Salad|\n",
      "|Kids Mini Sub Bla...|\n",
      "|\"6\"\" Black Forest...|\n",
      "| \"6\"\" Carved Turkey\"|\n",
      "|\"6\"\" Oven Roasted...|\n",
      "|Kids Mini Sub Roa...|\n",
      "|    \"6\"\" Roast Beef\"|\n",
      "|   \"6\"\" Subway Club\"|\n",
      "|\"6\"\" Sweet Onion ...|\n",
      "|Kids Mini Sub Tur...|\n",
      "| \"6\"\" Turkey Breast\"|\n",
      "|\"6\"\" Turkey Breas...|\n",
      "|Kids Mini Sub Veg...|\n",
      "+--------------------+\n",
      "only showing top 20 rows\n",
      "\n"
     ]
    }
   ],
   "source": [
    "# multiple filters\n",
    "\n",
    "df_food.filter((df_food[\"cal_fat\"]<=5) |\n",
    "                 (df_food[\"total_fat\"]<=5)\n",
    "            ).select([\"item\"]).show()"
   ]
  },
  {
   "cell_type": "code",
   "execution_count": 56,
   "metadata": {},
   "outputs": [
    {
     "name": "stdout",
     "output_type": "stream",
     "text": [
      "+-----------+--------------------+--------+-------+---------+-------+---------+-----------+------+----------+-----+-----+-------+-----+-----+-------+-----+\n",
      "| restaurant|                item|calories|cal_fat|total_fat|sat_fat|trans_fat|cholesterol|sodium|total_carb|fiber|sugar|protein|vit_a|vit_c|calcium|salad|\n",
      "+-----------+--------------------+--------+-------+---------+-------+---------+-----------+------+----------+-----+-----+-------+-----+-----+-------+-----+\n",
      "|  Mcdonalds|20 piece Buttermi...|    2430|   1270|      141|   24.0|      2.0|        475|  6080|       103|    2|    3|    186|    0|    2|      8|Other|\n",
      "|Burger King|American Brewhous...|    1550|   1134|      126|   47.0|      8.0|        805|  1820|        21|    3|    7|    134|   NA|   NA|     NA|Other|\n",
      "+-----------+--------------------+--------+-------+---------+-------+---------+-----------+------+----------+-----+-----+-------+-----+-----+-------+-----+\n",
      "\n"
     ]
    }
   ],
   "source": [
    "# not\n",
    "df_food.filter(~(df_food[\"cal_fat\"]<=1000)).show()"
   ]
  },
  {
   "cell_type": "code",
   "execution_count": 57,
   "metadata": {},
   "outputs": [],
   "source": [
    "# tutorial 5 \n",
    "# groupby and aggregate functions"
   ]
  },
  {
   "cell_type": "code",
   "execution_count": 58,
   "metadata": {},
   "outputs": [
    {
     "name": "stdout",
     "output_type": "stream",
     "text": [
      "root\n",
      " |-- restaurant: string (nullable = true)\n",
      " |-- item: string (nullable = true)\n",
      " |-- calories: integer (nullable = true)\n",
      " |-- cal_fat: integer (nullable = true)\n",
      " |-- total_fat: integer (nullable = true)\n",
      " |-- sat_fat: double (nullable = true)\n",
      " |-- trans_fat: double (nullable = true)\n",
      " |-- cholesterol: integer (nullable = true)\n",
      " |-- sodium: integer (nullable = true)\n",
      " |-- total_carb: integer (nullable = true)\n",
      " |-- fiber: string (nullable = true)\n",
      " |-- sugar: integer (nullable = true)\n",
      " |-- protein: string (nullable = true)\n",
      " |-- vit_a: string (nullable = true)\n",
      " |-- vit_c: string (nullable = true)\n",
      " |-- calcium: string (nullable = true)\n",
      " |-- salad: string (nullable = true)\n",
      "\n"
     ]
    }
   ],
   "source": [
    "df_food.printSchema()"
   ]
  },
  {
   "cell_type": "code",
   "execution_count": 61,
   "metadata": {},
   "outputs": [
    {
     "name": "stdout",
     "output_type": "stream",
     "text": [
      "+-----------+------------------+\n",
      "| restaurant|     avg(calories)|\n",
      "+-----------+------------------+\n",
      "|     Subway| 503.0208333333333|\n",
      "|  Taco Bell| 443.6521739130435|\n",
      "|Chick Fil-A|384.44444444444446|\n",
      "|Burger King| 608.5714285714286|\n",
      "|      Arbys| 532.7272727272727|\n",
      "|Dairy Queen| 520.2380952380952|\n",
      "|  Mcdonalds| 640.3508771929825|\n",
      "|      Sonic| 631.6981132075472|\n",
      "+-----------+------------------+\n",
      "\n"
     ]
    }
   ],
   "source": [
    "# lowest /avg calories by restaurant\n",
    "df_food.groupBy('restaurant').avg(\"calories\").show()"
   ]
  },
  {
   "cell_type": "code",
   "execution_count": 64,
   "metadata": {},
   "outputs": [
    {
     "name": "stdout",
     "output_type": "stream",
     "text": [
      "+--------------------+----------------+\n",
      "|                item|max(cholesterol)|\n",
      "+--------------------+----------------+\n",
      "|Loaded Italian Sa...|             100|\n",
      "|Beefy Mini Quesad...|              25|\n",
      "|      Chicken Deluxe|              75|\n",
      "|   \"6\"\" Subway Club\"|              40|\n",
      "|Cantina Power Bow...|              60|\n",
      "|Roast Turkey Farm...|              55|\n",
      "|Bacon & Cheese Wh...|              95|\n",
      "|            Corn Dog|              20|\n",
      "|Footlong Subway S...|              40|\n",
      "|Steak Crunchy Che...|              50|\n",
      "|Fiery Doritos® Lo...|              25|\n",
      "|       Filet-O-Fish®|              40|\n",
      "|  Black Bean Burrito|              10|\n",
      "|Premium Asian Sal...|              95|\n",
      "|Chalupa Supreme® ...|              40|\n",
      "|Fresco Burrito Su...|              15|\n",
      "| Triple Layer Nachos|               0|\n",
      "|Mushroom & Swiss ...|             175|\n",
      "|\"6\"\" Steak and Ch...|              50|\n",
      "|Chicken Spicy Che...|              55|\n",
      "+--------------------+----------------+\n",
      "only showing top 20 rows\n",
      "\n"
     ]
    }
   ],
   "source": [
    "# groupby find max calories by item or find max cholestrol by restaurant\n",
    "df_food.groupBy(\"item\").max(\"cholesterol\").show()"
   ]
  },
  {
   "cell_type": "code",
   "execution_count": 66,
   "metadata": {},
   "outputs": [
    {
     "name": "stdout",
     "output_type": "stream",
     "text": [
      "+-----------+-----+\n",
      "| restaurant|count|\n",
      "+-----------+-----+\n",
      "|     Subway|   96|\n",
      "|  Taco Bell|  115|\n",
      "|Chick Fil-A|   27|\n",
      "|Burger King|   70|\n",
      "|      Arbys|   55|\n",
      "|Dairy Queen|   42|\n",
      "|  Mcdonalds|   57|\n",
      "|      Sonic|   53|\n",
      "+-----------+-----+\n",
      "\n"
     ]
    }
   ],
   "source": [
    "# count item by restaurant\n",
    "df_food.groupBy(\"restaurant\").count().show()"
   ]
  },
  {
   "cell_type": "code",
   "execution_count": null,
   "metadata": {},
   "outputs": [],
   "source": [
    "# example of Pyspark ML"
   ]
  },
  {
   "cell_type": "code",
   "execution_count": 11,
   "metadata": {},
   "outputs": [],
   "source": [
    "from pyspark.ml.feature import VectorAssembler\n",
    "\n",
    "featureassembler = VectorAssembler(\n",
    "    inputCols = [\"cal_fat\",\"sat_fat\"],\n",
    "    outputCol = \"Independent Feature\"\n",
    ")\n",
    "# independent feature is input and output feature calories"
   ]
  },
  {
   "cell_type": "code",
   "execution_count": 12,
   "metadata": {},
   "outputs": [],
   "source": [
    "output = featureassembler.transform(df_food)"
   ]
  },
  {
   "cell_type": "code",
   "execution_count": 13,
   "metadata": {},
   "outputs": [
    {
     "name": "stdout",
     "output_type": "stream",
     "text": [
      "+----------+--------------------+--------+-------+---------+-------+---------+-----------+------+----------+-----+-----+-------+-----+-----+-------+-----+-------------------+\n",
      "|restaurant|                item|calories|cal_fat|total_fat|sat_fat|trans_fat|cholesterol|sodium|total_carb|fiber|sugar|protein|vit_a|vit_c|calcium|salad|Independent Feature|\n",
      "+----------+--------------------+--------+-------+---------+-------+---------+-----------+------+----------+-----+-----+-------+-----+-----+-------+-----+-------------------+\n",
      "| Mcdonalds|Artisan Grilled C...|     380|     60|        7|    2.0|      0.0|         95|  1110|        44|    3|   11|     37|    4|   20|     20|Other|         [60.0,2.0]|\n",
      "| Mcdonalds|Single Bacon Smok...|     840|    410|       45|   17.0|      1.5|        130|  1580|        62|    2|   18|     46|    6|   20|     20|Other|       [410.0,17.0]|\n",
      "| Mcdonalds|Double Bacon Smok...|    1130|    600|       67|   27.0|      3.0|        220|  1920|        63|    3|   18|     70|   10|   20|     50|Other|       [600.0,27.0]|\n",
      "| Mcdonalds|Grilled Bacon Smo...|     750|    280|       31|   10.0|      0.5|        155|  1940|        62|    2|   18|     55|    6|   25|     20|Other|       [280.0,10.0]|\n",
      "| Mcdonalds|Crispy Bacon Smok...|     920|    410|       45|   12.0|      0.5|        120|  1980|        81|    4|   18|     46|    6|   20|     20|Other|       [410.0,12.0]|\n",
      "| Mcdonalds|             Big Mac|     540|    250|       28|   10.0|      1.0|         80|   950|        46|    3|    9|     25|   10|    2|     15|Other|       [250.0,10.0]|\n",
      "| Mcdonalds|        Cheeseburger|     300|    100|       12|    5.0|      0.5|         40|   680|        33|    2|    7|     15|   10|    2|     10|Other|        [100.0,5.0]|\n",
      "| Mcdonalds|Classic Chicken S...|     510|    210|       24|    4.0|      0.0|         65|  1040|        49|    3|    6|     25|    0|    4|      2|Other|        [210.0,4.0]|\n",
      "| Mcdonalds| Double Cheeseburger|     430|    190|       21|   11.0|      1.0|         85|  1040|        35|    2|    7|     25|   20|    4|     15|Other|       [190.0,11.0]|\n",
      "| Mcdonalds|Double Quarter Po...|     770|    400|       45|   21.0|      2.5|        175|  1290|        42|    3|   10|     51|   20|    6|     20|Other|       [400.0,21.0]|\n",
      "| Mcdonalds|       Filet-O-Fish®|     380|    170|       18|    4.0|      0.0|         40|   640|        38|    2|    5|     15|    2|    0|     15|Other|        [170.0,4.0]|\n",
      "| Mcdonalds|Garlic White Ched...|     620|    300|       34|   13.0|      1.5|         95|   790|        48|    3|   11|     32|   10|   10|     35|Other|       [300.0,13.0]|\n",
      "| Mcdonalds|Grilled Garlic Wh...|     530|    180|       20|    7.0|      0.0|        125|  1150|        48|    3|   11|     42|   10|   20|     35|Other|        [180.0,7.0]|\n",
      "| Mcdonalds|Crispy Garlic Whi...|     700|    300|       34|    9.0|      0.0|         85|  1190|        67|    5|   11|     33|   10|   15|     35|Other|        [300.0,9.0]|\n",
      "| Mcdonalds|           Hamburger|     250|     70|        8|    3.0|      0.0|         30|   480|        31|    2|    6|     13|    2|    2|      4|Other|         [70.0,3.0]|\n",
      "| Mcdonalds|        Lobster Roll|     290|     50|        5|    1.5|      0.0|         65|   630|        35|    2|    3|     24|    4|    6|     15|Other|         [50.0,1.5]|\n",
      "| Mcdonalds|Maple Bacon Dijon...|     640|    330|       36|   14.0|      1.5|        110|  1260|        40|    3|   10|     37|    6|   15|     15|Other|       [330.0,14.0]|\n",
      "| Mcdonalds|Grilled Maple Bac...|     580|    190|       21|    8.0|      0.0|        135|  1890|        50|    3|   14|     48|    4|   30|     30|Other|        [190.0,8.0]|\n",
      "| Mcdonalds|Crispy Maple Baco...|     740|    310|       35|    9.0|      0.5|         95|  1780|        69|    5|   14|     39|    4|   20|    290|Other|        [310.0,9.0]|\n",
      "| Mcdonalds|           McChicken|     350|    130|       15|    3.5|      0.0|         40|   600|        40|    2|    5|     15|    2|    2|      4|Other|        [130.0,3.5]|\n",
      "+----------+--------------------+--------+-------+---------+-------+---------+-----------+------+----------+-----+-----+-------+-----+-----+-------+-----+-------------------+\n",
      "only showing top 20 rows\n",
      "\n"
     ]
    }
   ],
   "source": [
    "output.show()"
   ]
  },
  {
   "cell_type": "code",
   "execution_count": 15,
   "metadata": {},
   "outputs": [
    {
     "name": "stdout",
     "output_type": "stream",
     "text": [
      "+-------------------+--------+\n",
      "|Independent Feature|calories|\n",
      "+-------------------+--------+\n",
      "|         [60.0,2.0]|     380|\n",
      "|       [410.0,17.0]|     840|\n",
      "|       [600.0,27.0]|    1130|\n",
      "|       [280.0,10.0]|     750|\n",
      "|       [410.0,12.0]|     920|\n",
      "|       [250.0,10.0]|     540|\n",
      "|        [100.0,5.0]|     300|\n",
      "|        [210.0,4.0]|     510|\n",
      "|       [190.0,11.0]|     430|\n",
      "|       [400.0,21.0]|     770|\n",
      "|        [170.0,4.0]|     380|\n",
      "|       [300.0,13.0]|     620|\n",
      "|        [180.0,7.0]|     530|\n",
      "|        [300.0,9.0]|     700|\n",
      "|         [70.0,3.0]|     250|\n",
      "|         [50.0,1.5]|     290|\n",
      "|       [330.0,14.0]|     640|\n",
      "|        [190.0,8.0]|     580|\n",
      "|        [310.0,9.0]|     740|\n",
      "|        [130.0,3.5]|     350|\n",
      "+-------------------+--------+\n",
      "only showing top 20 rows\n",
      "\n"
     ]
    }
   ],
   "source": [
    "# independent feature is input and output feature calories\n",
    "finalized_data = output.select(\"Independent Feature\",\"calories\")\n",
    "finalized_data.show()"
   ]
  },
  {
   "cell_type": "code",
   "execution_count": 17,
   "metadata": {},
   "outputs": [
    {
     "name": "stderr",
     "output_type": "stream",
     "text": [
      "23/04/06 14:16:03 WARN Instrumentation: [4654a869] regParam is zero, which might cause numerical instability and overfitting.\n",
      "23/04/06 14:16:04 WARN InstanceBuilder$NativeBLAS: Failed to load implementation from:dev.ludovic.netlib.blas.JNIBLAS\n",
      "23/04/06 14:16:04 WARN InstanceBuilder$NativeBLAS: Failed to load implementation from:dev.ludovic.netlib.blas.ForeignLinkerBLAS\n",
      "23/04/06 14:16:04 WARN InstanceBuilder$NativeLAPACK: Failed to load implementation from:dev.ludovic.netlib.lapack.JNILAPACK\n"
     ]
    }
   ],
   "source": [
    "#\n",
    "from pyspark.ml.regression import LinearRegression\n",
    "train_data,test_data = finalized_data.randomSplit([0.75,0.25])\n",
    "regressor = LinearRegression(\n",
    "    featuresCol = \"Independent Feature\", labelCol = \"calories\"\n",
    ")\n",
    "regressor = regressor.fit(train_data)"
   ]
  },
  {
   "cell_type": "code",
   "execution_count": 18,
   "metadata": {},
   "outputs": [
    {
     "data": {
      "text/plain": [
       "DenseVector([1.6494, -3.802])"
      ]
     },
     "execution_count": 18,
     "metadata": {},
     "output_type": "execute_result"
    }
   ],
   "source": [
    "## find coefficients\n",
    "\n",
    "regressor.coefficients"
   ]
  },
  {
   "cell_type": "code",
   "execution_count": 19,
   "metadata": {},
   "outputs": [
    {
     "data": {
      "text/plain": [
       "168.58514995757642"
      ]
     },
     "execution_count": 19,
     "metadata": {},
     "output_type": "execute_result"
    }
   ],
   "source": [
    "## intercepts\n",
    "\n",
    "regressor.intercept"
   ]
  },
  {
   "cell_type": "code",
   "execution_count": 21,
   "metadata": {},
   "outputs": [],
   "source": [
    "# prediction\n",
    "pred_results = regressor.evaluate(test_data)"
   ]
  },
  {
   "cell_type": "code",
   "execution_count": 22,
   "metadata": {},
   "outputs": [
    {
     "name": "stdout",
     "output_type": "stream",
     "text": [
      "+-------------------+--------+------------------+\n",
      "|Independent Feature|calories|        prediction|\n",
      "+-------------------+--------+------------------+\n",
      "|         [10.0,0.0]|      50|185.07910257107233|\n",
      "|         [20.0,0.5]|     150|199.67207367704648|\n",
      "|         [20.0,1.0]|     230|197.77109216952476|\n",
      "|         [25.0,0.5]|     140|207.91904998379445|\n",
      "|         [27.0,1.0]|     110| 209.3168589989719|\n",
      "|         [40.0,2.0]|     320|226.95703438147308|\n",
      "|         [54.0,1.5]|     130| 251.9495495478891|\n",
      "|         [54.0,3.0]|     120|246.24660502532384|\n",
      "|         [70.0,1.0]|     390|280.24085523700427|\n",
      "|         [80.0,3.0]|     300| 289.1308818204132|\n",
      "|         [80.0,4.0]|     170|285.32891880536977|\n",
      "|         [90.0,4.5]|     240| 299.9218899113439|\n",
      "|         [95.0,4.0]|     180| 310.0698477256136|\n",
      "|        [100.0,4.0]|     270| 318.3168240323615|\n",
      "|        [100.0,5.0]|     300| 314.5148610173181|\n",
      "|        [100.0,5.0]|     370| 314.5148610173181|\n",
      "|        [110.0,5.0]|     200|331.00881363081396|\n",
      "|        [110.0,5.0]|     200|331.00881363081396|\n",
      "|        [110.0,5.0]|     390|331.00881363081396|\n",
      "|        [117.0,6.0]|     450|338.75261744521765|\n",
      "+-------------------+--------+------------------+\n",
      "only showing top 20 rows\n",
      "\n"
     ]
    },
    {
     "name": "stderr",
     "output_type": "stream",
     "text": [
      "/usr/local/lib/python3.8/dist-packages/pyspark/sql/context.py:125: FutureWarning: Deprecated in 3.0.0. Use SparkSession.builder.getOrCreate() instead.\n",
      "  warnings.warn(\n"
     ]
    }
   ],
   "source": [
    "pred_results.predictions.show()"
   ]
  },
  {
   "cell_type": "code",
   "execution_count": 26,
   "metadata": {},
   "outputs": [
    {
     "data": {
      "text/plain": [
       "(89.81407714518684, 14738.438380332924)"
      ]
     },
     "execution_count": 26,
     "metadata": {},
     "output_type": "execute_result"
    }
   ],
   "source": [
    "pred_results.meanAbsoluteError,pred_results.meanSquaredError"
   ]
  },
  {
   "cell_type": "code",
   "execution_count": null,
   "metadata": {},
   "outputs": [],
   "source": []
  }
 ],
 "metadata": {
  "kernelspec": {
   "display_name": "Python 3.8.10 64-bit",
   "language": "python",
   "name": "python3"
  },
  "language_info": {
   "codemirror_mode": {
    "name": "ipython",
    "version": 3
   },
   "file_extension": ".py",
   "mimetype": "text/x-python",
   "name": "python",
   "nbconvert_exporter": "python",
   "pygments_lexer": "ipython3",
   "version": "3.8.10"
  },
  "orig_nbformat": 4,
  "vscode": {
   "interpreter": {
    "hash": "e7370f93d1d0cde622a1f8e1c04877d8463912d04d973331ad4851f04de6915a"
   }
  }
 },
 "nbformat": 4,
 "nbformat_minor": 2
}
